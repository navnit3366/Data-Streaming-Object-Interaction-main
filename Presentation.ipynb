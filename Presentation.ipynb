{
 "cells": [
  {
   "cell_type": "markdown",
   "metadata": {
    "slideshow": {
     "slide_type": "slide"
    }
   },
   "source": [
    "# Data streaming for real-time object-interaction recognition and analytics using HoloLens2"
   ]
  },
  {
   "cell_type": "markdown",
   "metadata": {
    "slideshow": {
     "slide_type": "subslide"
    }
   },
   "source": [
    "<center> <h2> Introduction </h2></center> \n",
    "<p>This project in meant to apply Object Detection on real time data coming from a pair of Microsoft Hololens2's smartglasses.</p>\n",
    "\n",
    "<p><a href=https://github.com/marco-ardi/Data-Streaming-Object-Detector-Pipeline>Repository Here </a></p>"
   ]
  },
  {
   "cell_type": "markdown",
   "metadata": {
    "slideshow": {
     "slide_type": "subslide"
    }
   },
   "source": [
    "<center> <h2> Prerequisities </h2></center>\n",
    "\n",
    "* Linux, MacOs or Windows Subsystem for Linux (WSL2)\n",
    "* Nvidia GPU and CUDA drivers. [Guide on WSL2](https://ubuntu.com/blog/getting-started-with-cuda-on-ubuntu-on-wsl-2)\n",
    "* Python version>= 3.6"
   ]
  },
  {
   "cell_type": "markdown",
   "metadata": {
    "slideshow": {
     "slide_type": "subslide"
    }
   },
   "source": [
    "<center> <h2> Microsoft Hololens2 </h2></center>\n",
    "<center>\n",
    "    \n",
    "<img src=\"Images/hololens_img.jpg\" width=\"30%\" height=\"30%\" >\n",
    "</center>\n",
    "<p style=\"float: center; padding-top: 50px; \">\n",
    "Microsoft Hololens2 is a pair of smartglasses for Augmented Reality: it has several cameras (up to 2K resolution) and sensors, it can detect Hands, Eye Gaze, Voice and can also do spatial mapping, making it perfect as a Data Source in a Data Science Project!\n"
   ]
  },
  {
   "cell_type": "markdown",
   "metadata": {
    "slideshow": {
     "slide_type": "subslide"
    }
   },
   "source": [
    "<center>\n",
    "    \n",
    "<img src=\"Images/meme0 - hot.jpg\" width=\"30%\" height=\"30%\">\n",
    "</center>"
   ]
  },
  {
   "cell_type": "markdown",
   "metadata": {
    "slideshow": {
     "slide_type": "slide"
    }
   },
   "source": [
    "<center> <h2> Data Pipeline </h2></center>\n",
    "<img style=\"float: center;\" src=\"Images/pipelinev4.png\" >\n",
    "\n",
    "\n"
   ]
  },
  {
   "cell_type": "markdown",
   "metadata": {
    "slideshow": {
     "slide_type": "subslide"
    }
   },
   "source": [
    "Here's the Data Pipeline:\n",
    "<ul style=\"float: center; padding-left: 80px;\">\n",
    "  <li>Data Source: Microsoft Hololens2</li>\n",
    "  <li>Data Ingestion: Logstash</li>\n",
    "  <li>Data Streaming: Kafka + KafkaUI</li>\n",
    "  <li>Data Processing: Spark</li>\n",
    "  <li>Data Storage: Elastis Search</li>\n",
    "  <li>Data Visualization: Kibana</li>\n",
    "</ul>"
   ]
  },
  {
   "cell_type": "markdown",
   "metadata": {
    "slideshow": {
     "slide_type": "slide"
    }
   },
   "source": [
    "<center> <h2> Data Source: Microsoft Hololens2 </h2></center>\n",
    "\n",
    "\n"
   ]
  },
  {
   "cell_type": "markdown",
   "metadata": {
    "slideshow": {
     "slide_type": "subslide"
    }
   },
   "source": [
    "<center>\n",
    "\n",
    "<img src=\"Images/meme1 - minecraft.jpg\" width=\"30%\" height=\"30%\">\n",
    "</center>"
   ]
  },
  {
   "cell_type": "markdown",
   "metadata": {
    "slideshow": {
     "slide_type": "subslide"
    }
   },
   "source": [
    "Hololens2 is a great data source: It is used to retrieve data about hand and eye gaze location and photos.\n",
    "A client socket is opened in Hololens and sends, once per 2 seconds, a photo and a formatted string which contains hand and eye location.\n"
   ]
  },
  {
   "cell_type": "markdown",
   "metadata": {
    "slideshow": {
     "slide_type": "subslide"
    }
   },
   "source": [
    "On the other side, a server socket receives and decodes photo and logs, storing them in a .csv file"
   ]
  },
  {
   "cell_type": "code",
   "execution_count": null,
   "metadata": {
    "slideshow": {
     "slide_type": "subslide"
    }
   },
   "outputs": [],
   "source": [
    "with socket.socket(socket.AF_INET, socket.SOCK_STREAM) as s:\n",
    "    s.bind((HOST, PORT))\n",
    "    s.listen()\n",
    "    conn, addr = s.accept()\n",
    "    with conn:\n",
    "        print('Connected by', addr)\n",
    "        while True:\n",
    "            data = conn.recv(1024*8)\n",
    "            stringdata = data.decode('utf-8')\n",
    "            if not data: continue  \n",
    "\n",
    "            received_data = []\n",
    "            received_data = stringdata.split(' ')\n",
    "\n",
    "            with open(CSV_PATH, 'a', encoding='UTF8', newline='') as myfile:\n",
    "                wr = csv.writer(myfile, quoting=csv.QUOTE_NONE, escapechar=' ')\n",
    "                wr.writerow(received_data)\n",
    "\n",
    "            img = conn.recv(160000) #worst case scenario for a 1280x720 jpeg image is 160000 bytes\n",
    "            if not img: continue         \n",
    "            try:\n",
    "                file_bytes = np.asarray(bytearray(io.BytesIO(img).read()), dtype=np.uint8)\n",
    "                imgToShow = cv2.imdecode(file_bytes, cv2.IMREAD_COLOR)\n",
    "                cv2.imwrite(IMGS_PATH+ received_data[0] +'.jpg', imgToShow)\n"
   ]
  },
  {
   "cell_type": "markdown",
   "metadata": {
    "slideshow": {
     "slide_type": "slide"
    }
   },
   "source": [
    "<center> <h2> Data Ingestion: Logstash </h2></center>\n",
    "<center>\n",
    "\n",
    "<img src=\"Images/logstashlogo.png\">\n",
    "</center>"
   ]
  },
  {
   "cell_type": "markdown",
   "metadata": {
    "slideshow": {
     "slide_type": "subslide"
    }
   },
   "source": [
    "Logstash is an open source data collection engine with real-time pipelining capabilities. It can dynamically unity data from different sources and normalize the data into destination of your choice."
   ]
  },
  {
   "cell_type": "markdown",
   "metadata": {
    "slideshow": {
     "slide_type": "subslide"
    }
   },
   "source": [
    "It is used for getting data from the server socket and prepare them for Kafka."
   ]
  },
  {
   "cell_type": "code",
   "execution_count": null,
   "metadata": {
    "slideshow": {
     "slide_type": "subslide"
    }
   },
   "outputs": [],
   "source": [
    "input{ \n",
    "    file{\n",
    "        path=>\"/usr/share/logstash/csv/logs2D.csv\"\n",
    "        start_position=>\"beginning\"\n",
    "    }\n",
    "}\n",
    "filter{\n",
    "    csv{\n",
    "        separator=>\",\"\n",
    "        columns=>[\"id\", \"c1\", \"c2\", \"c3\", \"c4\", \"c5\", \"c6\", \"c7\", \"c8\", \"c9\", \"c10\", \"c11\", \"c12\", \"c13\", \"c14\", \"c15\", \"c16\", \"c17\", \"c18\", \"c19\", \"c20\", \"c21\", \"c22\"]\n",
    "    }  \n",
    "    mutate{\n",
    "        remove_field => [\"@timestamp\", \"@version\", \"host\", \"path\", \"message\"]\n",
    "    }\n",
    "}\n",
    "output{\n",
    "    kafka {\n",
    "        codec => json\n",
    "        topic_id => \"tap\"\n",
    "        bootstrap_servers => \"kafkaserver:9092\"\n",
    "    }\n",
    "    stdout {}\n",
    "}"
   ]
  },
  {
   "cell_type": "markdown",
   "metadata": {
    "slideshow": {
     "slide_type": "slide"
    }
   },
   "source": [
    "<center> <h2> Data Streaming: Kafka </h2></center>\n",
    "<center>\n",
    "\n",
    "<img  src=\"Images/kafkalogo.png\">\n",
    "</center>"
   ]
  },
  {
   "cell_type": "markdown",
   "metadata": {
    "slideshow": {
     "slide_type": "subslide"
    }
   },
   "source": [
    "<center>\n",
    "\n",
    "<img src=\"Images/meme2 - kafka.jpg\" width=\"30%\" height=\"30%\">\n",
    "</center>"
   ]
  },
  {
   "cell_type": "markdown",
   "metadata": {
    "slideshow": {
     "slide_type": "subslide"
    }
   },
   "source": [
    "Apache Kafka is an open-source software which provides a framework for storing, reading and analysing streaming data. It is used for handling real time data feeds with low-latency and high-throughput."
   ]
  },
  {
   "cell_type": "markdown",
   "metadata": {
    "slideshow": {
     "slide_type": "subslide"
    }
   },
   "source": [
    "It is used for receiving logs from Logstash, storing them and sending them to Spark for doing object detection."
   ]
  },
  {
   "cell_type": "markdown",
   "metadata": {
    "slideshow": {
     "slide_type": "slide"
    }
   },
   "source": [
    "<center> <h2> Data Processing: Spark </h2></center>\n",
    "<center>\n",
    "\n",
    "<img src=\"Images/sparklogo.png\">\n",
    "</center>"
   ]
  },
  {
   "cell_type": "markdown",
   "metadata": {
    "slideshow": {
     "slide_type": "subslide"
    }
   },
   "source": [
    "<center>\n",
    "\n",
    "<img  src=\"Images/meme3 - sparta-spark.jpg\">\n",
    "</center>"
   ]
  },
  {
   "cell_type": "markdown",
   "metadata": {
    "slideshow": {
     "slide_type": "subslide"
    }
   },
   "source": [
    "Apache Spark is an open-source unified analytics engine for large-scale data processing. It allows to program in Java, R, Scala and Python, ensuring parallelism and fault tolerance."
   ]
  },
  {
   "cell_type": "markdown",
   "metadata": {
    "slideshow": {
     "slide_type": "subslide"
    }
   },
   "source": [
    "It is used for doing object detection to the stream coming from Kafka."
   ]
  },
  {
   "cell_type": "markdown",
   "metadata": {
    "slideshow": {
     "slide_type": "subslide"
    }
   },
   "source": [
    "<center> <h3> Detectron2 </h3></center>\n",
    "<center>\n",
    "    \n",
    "<img src=\"Images/detectronimage.png\" width=\"50%\" height=\"50%\">\n",
    "</center>"
   ]
  },
  {
   "cell_type": "markdown",
   "metadata": {
    "slideshow": {
     "slide_type": "subslide"
    }
   },
   "source": [
    "Written in Python, Detectron2 uses deep learning for object detection, providing a easy-to-use and extremely powerful framework for doing detection on photos or videos."
   ]
  },
  {
   "cell_type": "markdown",
   "metadata": {
    "slideshow": {
     "slide_type": "subslide"
    }
   },
   "source": [
    "<center>\n",
    "\n",
    "<img src=\"Images/mymeme1.jpg\" width=\"30%\" height=\"30%\">\n",
    "</center>"
   ]
  },
  {
   "cell_type": "markdown",
   "metadata": {
    "slideshow": {
     "slide_type": "subslide"
    }
   },
   "source": [
    "<center>\n",
    "\n",
    "<img src=\"Images/mymeme2.jpg\" width=\"30%\" height=\"30%\">\n",
    "</center>"
   ]
  },
  {
   "cell_type": "markdown",
   "metadata": {
    "slideshow": {
     "slide_type": "slide"
    }
   },
   "source": [
    "<center> <h2> Data Storage: Elastic Search </h2></center>\n",
    "<center>\n",
    "    \n",
    "<img src=\"Images/elasticsearchlogo.png\">\n",
    "</center>"
   ]
  },
  {
   "cell_type": "markdown",
   "metadata": {
    "slideshow": {
     "slide_type": "subslide"
    }
   },
   "source": [
    "Elastic Search is a distributed, free and open search and analytics engine for all types of data."
   ]
  },
  {
   "cell_type": "markdown",
   "metadata": {
    "slideshow": {
     "slide_type": "subslide"
    }
   },
   "source": [
    "It stores object detection information from Spark, then passes them to Kibana for data visualization."
   ]
  },
  {
   "cell_type": "markdown",
   "metadata": {
    "slideshow": {
     "slide_type": "slide"
    }
   },
   "source": [
    "<center> <h2> Data Visualization: Kibana </h2></center>\n",
    "<center>\n",
    "    \n",
    "<img src=\"Images/kibanalogo2.png\">\n",
    "</center>"
   ]
  },
  {
   "cell_type": "markdown",
   "metadata": {
    "slideshow": {
     "slide_type": "subslide"
    }
   },
   "source": [
    "Kibana is a data visualization and exploration tool used for log and time-series analytics, application monitoring, and operational intelligence use cases."
   ]
  },
  {
   "cell_type": "markdown",
   "metadata": {
    "slideshow": {
     "slide_type": "subslide"
    }
   },
   "source": [
    "It offers powerful and easy-to-use features such as histograms, line graphs, pie charts, heat maps, and built-in geospatial support."
   ]
  },
  {
   "cell_type": "markdown",
   "metadata": {
    "slideshow": {
     "slide_type": "slide"
    }
   },
   "source": [
    "<center> <h2> Live Demo! </h2></center>\n",
    "<center>\n",
    "    \n",
    "<img src=\"Images/memex - live demo.jpg\">\n",
    "</center>"
   ]
  },
  {
   "cell_type": "markdown",
   "metadata": {
    "slideshow": {
     "slide_type": "subslide"
    }
   },
   "source": [
    "<center>\n",
    "\n",
    "<img src=\"Images/mymeme3.jpg\" width=\"40%\" height=\"40%\">\n",
    "</center>"
   ]
  },
  {
   "cell_type": "markdown",
   "metadata": {
    "slideshow": {
     "slide_type": "subslide"
    }
   },
   "source": [
    "Live demo:\n",
    "<ul style=\"float: center; padding-left: 80px;\">\n",
    "  <li>start server.py (checking IP address)</li>\n",
    "  <li>start stringConverter.py</li>\n",
    "  <li>start Hololens' script</li>\n",
    "  <li>docker-compose up</li>\n",
    "  <li>Enjoy!</li>\n",
    "</ul>\n"
   ]
  },
  {
   "cell_type": "markdown",
   "metadata": {
    "slideshow": {
     "slide_type": "slide"
    }
   },
   "source": [
    "<h3>Realized By Marco Ardizzone X81001077</h3>\n",
    "<h4>Special Thanks to Simone Benedetto</h4>"
   ]
  }
 ],
 "metadata": {
  "celltoolbar": "Slideshow",
  "kernelspec": {
   "display_name": "Python 3 (ipykernel)",
   "language": "python",
   "name": "python3"
  },
  "language_info": {
   "codemirror_mode": {
    "name": "ipython",
    "version": 3
   },
   "file_extension": ".py",
   "mimetype": "text/x-python",
   "name": "python",
   "nbconvert_exporter": "python",
   "pygments_lexer": "ipython3",
   "version": "3.7.10"
  }
 },
 "nbformat": 4,
 "nbformat_minor": 4
}
